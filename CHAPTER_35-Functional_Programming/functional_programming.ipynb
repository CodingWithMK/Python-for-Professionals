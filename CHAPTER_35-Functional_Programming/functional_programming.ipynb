{
 "cells": [
  {
   "cell_type": "markdown",
   "id": "2dfac923",
   "metadata": {},
   "source": [
    "# **CHAPTER 35: FUNCTIONAL PROGRAMMING**"
   ]
  },
  {
   "cell_type": "markdown",
   "id": "e26b7d85",
   "metadata": {},
   "source": [
    "**Functional programming** is a programming paradigm in which:\n",
    "\n",
    "- Functions are **\"first-class citizens\"** (they can be assigned to variables, or passed and returned to other functions).\n",
    "- you can work **stateless** and without **side effects**.\n",
    "- loops get replaced by **high quality functions** like ```map()```, ```filter()```, ```reduce()```. "
   ]
  },
  {
   "cell_type": "markdown",
   "id": "3c9e0b4e",
   "metadata": {},
   "source": [
    "#### 🔧 1. ```lambda```-functions (anonymous functions)"
   ]
  },
  {
   "cell_type": "markdown",
   "id": "462f0b81",
   "metadata": {},
   "source": [
    "With the ```lambda``` keyword you can write short **one-time usage** functions - mostly inline."
   ]
  },
  {
   "cell_type": "code",
   "execution_count": 1,
   "id": "15093566",
   "metadata": {},
   "outputs": [
    {
     "name": "stdout",
     "output_type": "stream",
     "text": [
      "25\n"
     ]
    }
   ],
   "source": [
    "square = lambda x: x **2\n",
    "print(square(5)) # -> 25"
   ]
  },
  {
   "cell_type": "markdown",
   "id": "f607e415",
   "metadata": {},
   "source": [
    "This technique is very practical with ```map()```, ```filter()```, ```reduce()```, ```sorted()```, etc."
   ]
  },
  {
   "cell_type": "markdown",
   "id": "e703dd75",
   "metadata": {},
   "source": [
    "### 🔁 2. ```map()``` - Applyment on all Elements"
   ]
  },
  {
   "cell_type": "code",
   "execution_count": 3,
   "id": "099ae67e",
   "metadata": {},
   "outputs": [
    {
     "name": "stdout",
     "output_type": "stream",
     "text": [
      "[1, 4, 9, 16, 25]\n"
     ]
    }
   ],
   "source": [
    "numbers = [1, 2, 3, 4, 5]\n",
    "square = map(lambda x: x ** 2, numbers)\n",
    "print(list(square)) # -> [1, 4, 9, 16, 25]"
   ]
  },
  {
   "cell_type": "markdown",
   "id": "d0f8e9df",
   "metadata": {},
   "source": [
    "```map()``` returns an **iterator**, so often it has to be converted to a ```list()```."
   ]
  },
  {
   "cell_type": "markdown",
   "id": "d9846285",
   "metadata": {},
   "source": [
    "#### 🔎 3. ```filter()``` - Filtering Elements by Condition"
   ]
  },
  {
   "cell_type": "code",
   "execution_count": 4,
   "id": "b1654ad6",
   "metadata": {},
   "outputs": [
    {
     "name": "stdout",
     "output_type": "stream",
     "text": [
      "[2, 4, 6]\n"
     ]
    }
   ],
   "source": [
    "numbers = [1, 2, 3, 4, 5, 6]\n",
    "even = filter(lambda x: x % 2 == 0, numbers)\n",
    "print(list(even)) # -> [2, 4, 6]"
   ]
  },
  {
   "cell_type": "markdown",
   "id": "b1619855",
   "metadata": {},
   "source": []
  },
  {
   "cell_type": "code",
   "execution_count": null,
   "id": "2b2d8c5f",
   "metadata": {},
   "outputs": [],
   "source": []
  }
 ],
 "metadata": {
  "kernelspec": {
   "display_name": "base",
   "language": "python",
   "name": "python3"
  },
  "language_info": {
   "codemirror_mode": {
    "name": "ipython",
    "version": 3
   },
   "file_extension": ".py",
   "mimetype": "text/x-python",
   "name": "python",
   "nbconvert_exporter": "python",
   "pygments_lexer": "ipython3",
   "version": "3.11.7"
  }
 },
 "nbformat": 4,
 "nbformat_minor": 5
}
