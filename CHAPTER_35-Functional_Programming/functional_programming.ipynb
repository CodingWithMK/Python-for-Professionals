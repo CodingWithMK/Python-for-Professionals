{
 "cells": [
  {
   "cell_type": "markdown",
   "id": "2dfac923",
   "metadata": {},
   "source": [
    "# **CHAPTER 35: FUNCTIONAL PROGRAMMING**"
   ]
  },
  {
   "cell_type": "markdown",
   "id": "e26b7d85",
   "metadata": {},
   "source": [
    "**Functional programming** is a programming paradigm in which:\n",
    "\n",
    "- Functions are **\"first-class citizens\"** (they can be assigned to variables, or passed and returned to other functions).\n",
    "- you can work **stateless** and without **side effects**.\n",
    "- loops get replaced by **high quality functions** like ```map()```, ```filter()```, ```reduce()```. "
   ]
  },
  {
   "cell_type": "markdown",
   "id": "3c9e0b4e",
   "metadata": {},
   "source": [
    "#### 🔧 1. ```lambda```-functions (anonymous functions)"
   ]
  },
  {
   "cell_type": "markdown",
   "id": "462f0b81",
   "metadata": {},
   "source": [
    "With the ```lambda``` keyword you can write short **one-time usage** functions - mostly inline."
   ]
  },
  {
   "cell_type": "code",
   "execution_count": null,
   "id": "15093566",
   "metadata": {},
   "outputs": [
    {
     "name": "stdout",
     "output_type": "stream",
     "text": [
      "25\n"
     ]
    }
   ],
   "source": [
    "square = lambda x: x **2\n",
    "print(square(5)) # ➜ 25"
   ]
  },
  {
   "cell_type": "markdown",
   "id": "f607e415",
   "metadata": {},
   "source": [
    "This technique is very practical with ```map()```, ```filter()```, ```reduce()```, ```sorted()```, etc."
   ]
  },
  {
   "cell_type": "markdown",
   "id": "e703dd75",
   "metadata": {},
   "source": [
    "### 🔁 2. ```map()``` - Applyment on all Elements"
   ]
  },
  {
   "cell_type": "code",
   "execution_count": null,
   "id": "099ae67e",
   "metadata": {},
   "outputs": [
    {
     "name": "stdout",
     "output_type": "stream",
     "text": [
      "[1, 4, 9, 16, 25]\n"
     ]
    }
   ],
   "source": [
    "numbers = [1, 2, 3, 4, 5]\n",
    "square = map(lambda x: x ** 2, numbers)\n",
    "print(list(square)) # ➜ [1, 4, 9, 16, 25]"
   ]
  },
  {
   "cell_type": "markdown",
   "id": "d0f8e9df",
   "metadata": {},
   "source": [
    "> ```map()``` returns an **iterator**, so often it has to be converted to a ```list()```."
   ]
  },
  {
   "cell_type": "markdown",
   "id": "d9846285",
   "metadata": {},
   "source": [
    "### 🔎 3. ```filter()``` - Filtering Elements by Condition"
   ]
  },
  {
   "cell_type": "code",
   "execution_count": null,
   "id": "b1654ad6",
   "metadata": {},
   "outputs": [
    {
     "name": "stdout",
     "output_type": "stream",
     "text": [
      "[2, 4, 6]\n"
     ]
    }
   ],
   "source": [
    "numbers = [1, 2, 3, 4, 5, 6]\n",
    "even = filter(lambda x: x % 2 == 0, numbers)\n",
    "print(list(even)) # ➜ [2, 4, 6]"
   ]
  },
  {
   "cell_type": "markdown",
   "id": "b1619855",
   "metadata": {},
   "source": [
    "### ➕ 4. ```reduce()``` - Reducing values to a result"
   ]
  },
  {
   "cell_type": "code",
   "execution_count": 1,
   "id": "2b2d8c5f",
   "metadata": {},
   "outputs": [
    {
     "name": "stdout",
     "output_type": "stream",
     "text": [
      "15\n"
     ]
    }
   ],
   "source": [
    "from functools import reduce\n",
    "\n",
    "numbers = [1, 2, 3, 4, 5]\n",
    "sum = reduce(lambda x, y: x + y, numbers)\n",
    "print(sum) # ➜ 15"
   ]
  },
  {
   "cell_type": "markdown",
   "id": "954c96b6",
   "metadata": {},
   "source": [
    "> Typical Application: Sum, Product, Chaining, Maximum ..."
   ]
  },
  {
   "cell_type": "markdown",
   "id": "e228b319",
   "metadata": {},
   "source": [
    "### 🧠 5. ```all()``` & ```any()```"
   ]
  },
  {
   "cell_type": "markdown",
   "id": "6ea08c02",
   "metadata": {},
   "source": [
    "##### ```all()```- Are all values ```True```? \n",
    "\n",
    "- ```all()``` controls if all elements in a list are ```True``` or not."
   ]
  },
  {
   "cell_type": "code",
   "execution_count": 2,
   "id": "6c0b98cd",
   "metadata": {},
   "outputs": [
    {
     "name": "stdout",
     "output_type": "stream",
     "text": [
      "True\n",
      "False\n"
     ]
    }
   ],
   "source": [
    "values = [True, True, True]\n",
    "print(all(values)) # ➜ True\n",
    "\n",
    "values_2 = [True, True, False]\n",
    "print(all(values_2)) # ➜ False"
   ]
  },
  {
   "cell_type": "markdown",
   "id": "e77f9938",
   "metadata": {},
   "source": [
    "##### ```any()``` - Is at least one element True?\n",
    "\n",
    "- ```any()``` controls if **at least one** of the elements in the list is ```True```."
   ]
  },
  {
   "cell_type": "code",
   "execution_count": 3,
   "id": "784d8fc5",
   "metadata": {},
   "outputs": [
    {
     "name": "stdout",
     "output_type": "stream",
     "text": [
      "True\n"
     ]
    }
   ],
   "source": [
    "values_3 = [True, False, False]\n",
    "print(any(values_3)) # ➜ True"
   ]
  },
  {
   "cell_type": "markdown",
   "id": "3c8e21bc",
   "metadata": {},
   "source": [
    "### 🗂️ 6. ```sorted()``` with ```key=lambda```"
   ]
  },
  {
   "cell_type": "code",
   "execution_count": 4,
   "id": "cafc767e",
   "metadata": {},
   "outputs": [
    {
     "name": "stdout",
     "output_type": "stream",
     "text": [
      "['Pen', 'Book', 'Table', 'Notebook']\n"
     ]
    }
   ],
   "source": [
    "words = [\"Table\", \"Notebook\", \"Pen\", \"Book\"]\n",
    "sorted_words = sorted(words, key=lambda w: len(w))\n",
    "print(sorted_words) # ➜ ['Pen', 'Book', 'Table', 'Notebook']"
   ]
  },
  {
   "cell_type": "markdown",
   "id": "8699458d",
   "metadata": {},
   "source": [
    "> ***NOTE***: You can establish any kind of sorting logic using lambda!"
   ]
  },
  {
   "cell_type": "markdown",
   "id": "7ca7595a",
   "metadata": {},
   "source": [
    "### 🧩 7. Combined Practical Examples "
   ]
  },
  {
   "cell_type": "markdown",
   "id": "8a286a89",
   "metadata": {},
   "source": [
    "##### ✅ Calculate the average with ```reduce()```"
   ]
  },
  {
   "cell_type": "code",
   "execution_count": 5,
   "id": "01e28b0e",
   "metadata": {},
   "outputs": [
    {
     "name": "stdout",
     "output_type": "stream",
     "text": [
      "30.0\n"
     ]
    }
   ],
   "source": [
    "numbers = [10, 20, 30, 40, 50]\n",
    "average = reduce(lambda acc, val: acc + val, numbers) / len(numbers)\n",
    "print(average) # ➜ 30.0"
   ]
  },
  {
   "cell_type": "code",
   "execution_count": null,
   "id": "c4f06175",
   "metadata": {},
   "outputs": [],
   "source": []
  }
 ],
 "metadata": {
  "kernelspec": {
   "display_name": "base",
   "language": "python",
   "name": "python3"
  },
  "language_info": {
   "codemirror_mode": {
    "name": "ipython",
    "version": 3
   },
   "file_extension": ".py",
   "mimetype": "text/x-python",
   "name": "python",
   "nbconvert_exporter": "python",
   "pygments_lexer": "ipython3",
   "version": "3.11.7"
  }
 },
 "nbformat": 4,
 "nbformat_minor": 5
}
