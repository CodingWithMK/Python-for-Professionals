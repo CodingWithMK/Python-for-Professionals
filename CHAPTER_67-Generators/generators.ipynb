{
 "cells": [
  {
   "cell_type": "markdown",
   "id": "8b7fd3cb",
   "metadata": {},
   "source": [
    "# CHAPTER 67: GENERATORS"
   ]
  },
  {
   "cell_type": "markdown",
   "id": "8d4ba749",
   "metadata": {},
   "source": [
    "## **NOTE**: Look at scripts with .py ending in the main directory of this topic to get a look into Practicing Projects about this topic."
   ]
  },
  {
   "cell_type": "markdown",
   "id": "776a4135",
   "metadata": {},
   "source": [
    "A Generator is a special type of **iterable object**, which generates **lazy values** on demand. This means that the values are computed only when **requested**, allowing for efficient memory usage and potentially infinite sequences."
   ]
  },
  {
   "cell_type": "markdown",
   "id": "69a63bdc",
   "metadata": {},
   "source": [
    "### Generator Function"
   ]
  },
  {
   "cell_type": "code",
   "execution_count": 1,
   "id": "270bbd4a",
   "metadata": {},
   "outputs": [
    {
     "name": "stdout",
     "output_type": "stream",
     "text": [
      "0\n",
      "1\n"
     ]
    }
   ],
   "source": [
    "def square():\n",
    "    for x in range(10):\n",
    "        yield x ** 2\n",
    "\n",
    "g = square()\n",
    "print(next(g)) # -> 0\n",
    "print(next(g)) # -> 1"
   ]
  },
  {
   "cell_type": "markdown",
   "id": "7cbdbc40",
   "metadata": {},
   "source": [
    "The **yield** keyword returns a value and pauses the function. When the next next() call is made, the function will continue where it was paused."
   ]
  },
  {
   "cell_type": "markdown",
   "id": "df89c01b",
   "metadata": {},
   "source": [
    "### Generator Expression"
   ]
  },
  {
   "cell_type": "code",
   "execution_count": null,
   "id": "233f26d5",
   "metadata": {},
   "outputs": [],
   "source": []
  }
 ],
 "metadata": {
  "kernelspec": {
   "display_name": "base",
   "language": "python",
   "name": "python3"
  },
  "language_info": {
   "codemirror_mode": {
    "name": "ipython",
    "version": 3
   },
   "file_extension": ".py",
   "mimetype": "text/x-python",
   "name": "python",
   "nbconvert_exporter": "python",
   "pygments_lexer": "ipython3",
   "version": "3.11.7"
  }
 },
 "nbformat": 4,
 "nbformat_minor": 5
}
