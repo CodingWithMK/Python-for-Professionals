{
 "cells": [
  {
   "cell_type": "markdown",
   "id": "8b7fd3cb",
   "metadata": {},
   "source": [
    "# CHAPTER 67: GENERATORS"
   ]
  },
  {
   "cell_type": "markdown",
   "id": "8d4ba749",
   "metadata": {},
   "source": [
    "## **NOTE**: Look at scripts with .py ending in the main directory of this topic to get a look into Practicing Projects about this topic."
   ]
  },
  {
   "cell_type": "markdown",
   "id": "776a4135",
   "metadata": {},
   "source": [
    "A Generator is a special type of **iterable object**, which generates **lazy values** on demand. This means that the values are computed only when **requested**, allowing for efficient memory usage and potentially infinite sequences."
   ]
  },
  {
   "cell_type": "markdown",
   "id": "69a63bdc",
   "metadata": {},
   "source": [
    "### Generator Function"
   ]
  },
  {
   "cell_type": "code",
   "execution_count": 1,
   "id": "270bbd4a",
   "metadata": {},
   "outputs": [
    {
     "name": "stdout",
     "output_type": "stream",
     "text": [
      "0\n",
      "1\n"
     ]
    }
   ],
   "source": [
    "def square():\n",
    "    for x in range(10):\n",
    "        yield x ** 2\n",
    "\n",
    "g = square()\n",
    "print(next(g)) # -> 0\n",
    "print(next(g)) # -> 1"
   ]
  },
  {
   "cell_type": "markdown",
   "id": "7cbdbc40",
   "metadata": {},
   "source": [
    "The **yield** keyword returns a value and pauses the function. When the next next() call is made, the function will continue where it was paused."
   ]
  },
  {
   "cell_type": "markdown",
   "id": "df89c01b",
   "metadata": {},
   "source": [
    "### Generator Expression"
   ]
  },
  {
   "cell_type": "code",
   "execution_count": null,
   "id": "233f26d5",
   "metadata": {},
   "outputs": [],
   "source": [
    "gen = (x ** 2 for x in range(5))\n",
    "print(next(gen)) # -> 0\n",
    "print(list(gen)) # -> [1, 4, 9, 16] "
   ]
  },
  {
   "cell_type": "markdown",
   "id": "da7b52ff",
   "metadata": {},
   "source": [
    "This is nearly the same as list comprehension but with rounded braces - In this way a Generator gets defined."
   ]
  },
  {
   "cell_type": "markdown",
   "id": "81133af6",
   "metadata": {},
   "source": [
    "### Infinite Generator"
   ]
  },
  {
   "cell_type": "code",
   "execution_count": null,
   "id": "b84f02ca",
   "metadata": {},
   "outputs": [],
   "source": [
    "def infinite_gen(start=0):\n",
    "    while True:\n",
    "        yield start\n",
    "        start += 1\n",
    "\n",
    "gen = infinite_gen()\n",
    "print(next(gen)) # -> 0\n",
    "print(next(gen)) # -> 1"
   ]
  },
  {
   "cell_type": "markdown",
   "id": "94f40f10",
   "metadata": {},
   "source": [
    "**CAUTION**: The line \"list(infinite_gen())\" causes a infinite program (infinite loop)!"
   ]
  },
  {
   "cell_type": "markdown",
   "id": "4b652b77",
   "metadata": {},
   "source": [
    "### ```yield from``` - Take values from a generator"
   ]
  },
  {
   "cell_type": "code",
   "execution_count": null,
   "id": "0fa23d31",
   "metadata": {},
   "outputs": [],
   "source": [
    "def first():\n",
    "    yield from range(3) # -> 0, 1, 2\n",
    "\n",
    "def second():\n",
    "    yield from first() # this takes all values from the first generator\n",
    "    yield from range(2) # -> 0, 1\n",
    "\n",
    "print(list(second())) # -> [0, 1, 2, 0, 1]"
   ]
  },
  {
   "cell_type": "markdown",
   "id": "669c4ac4",
   "metadata": {},
   "source": [
    "yield from is an elegant way to pass through all values ​​from another generator."
   ]
  },
  {
   "cell_type": "markdown",
   "id": "7754413e",
   "metadata": {},
   "source": [
    "### ```next()``` with default value"
   ]
  },
  {
   "cell_type": "code",
   "execution_count": null,
   "id": "6102b261",
   "metadata": {},
   "outputs": [],
   "source": [
    "def numbers():\n",
    "    yield 1\n",
    "    yield 2\n",
    "\n",
    "gen = numbers()\n",
    "print(next(gen, None)) # -> 1\n",
    "print(next(gen, None)) # -> 2\n",
    "print(next(gen, None)) # -> None"
   ]
  },
  {
   "cell_type": "markdown",
   "id": "db83f07e",
   "metadata": {},
   "source": [
    "next(iterator, default) -> If the generator is empty the default value is returned"
   ]
  },
  {
   "cell_type": "markdown",
   "id": "3bd8de36",
   "metadata": {},
   "source": [
    "### Fibonacci with Generator"
   ]
  },
  {
   "cell_type": "code",
   "execution_count": null,
   "id": "cfab8285",
   "metadata": {},
   "outputs": [],
   "source": [
    "def fibonacci():\n",
    "    a, b = 0, 1\n",
    "    while True:\n",
    "        yield a\n",
    "        a, b = b, a + b\n",
    "\n",
    "f = fibonacci()\n",
    "print([next(f) for _ in range(10)])\n",
    "# ➜ [0, 1, 1, 2, 3, 5, 8, 13, 21, 34]"
   ]
  },
  {
   "cell_type": "markdown",
   "id": "1631a8f8",
   "metadata": {},
   "source": [
    "### Coroutine Example (Generator with ```send()```)"
   ]
  },
  {
   "cell_type": "code",
   "execution_count": null,
   "id": "47be0dfc",
   "metadata": {},
   "outputs": [],
   "source": [
    "def coroutine(func):\n",
    "    def wrapper(*args, **kwargs):\n",
    "        cr = func(*args, **kwargs)\n",
    "        next(cr)  # preparing coroutine\n",
    "        return cr\n",
    "    return wrapper\n",
    "\n",
    "@coroutine\n",
    "def summierer(summe=0):\n",
    "    while True:\n",
    "        x = yield summe\n",
    "        summe += x\n",
    "\n",
    "s = summierer()\n",
    "print(s.send(5))  # ➜ 5\n",
    "print(s.send(10)) # ➜ 15"
   ]
  }
 ],
 "metadata": {
  "kernelspec": {
   "display_name": "base",
   "language": "python",
   "name": "python3"
  },
  "language_info": {
   "codemirror_mode": {
    "name": "ipython",
    "version": 3
   },
   "file_extension": ".py",
   "mimetype": "text/x-python",
   "name": "python",
   "nbconvert_exporter": "python",
   "pygments_lexer": "ipython3",
   "version": "3.11.7"
  }
 },
 "nbformat": 4,
 "nbformat_minor": 5
}
