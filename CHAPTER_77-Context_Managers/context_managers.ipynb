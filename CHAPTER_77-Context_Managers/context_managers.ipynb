{
 "cells": [
  {
   "cell_type": "markdown",
   "id": "3e75274f",
   "metadata": {},
   "source": [
    "# CHAPTER 77: CONTEXT MANAGERS"
   ]
  },
  {
   "cell_type": "markdown",
   "id": "ec3bba79",
   "metadata": {},
   "source": [
    "A **Context Manager** is an object that creates a specific environment for data and file management and automatically closes and clears them up when finished.\n",
    "\n",
    "Typical Examples are:\n",
    "- Opening/Closing files\n",
    "- Managing Database connections\n",
    "- Releasing Locks in Multithreading correctly\n",
    "- Sharing Resources automatically"
   ]
  },
  {
   "cell_type": "code",
   "execution_count": 1,
   "id": "a550ffdf",
   "metadata": {},
   "outputs": [],
   "source": [
    "# Most popular Usage of an Context Manager\n",
    "\n",
    "with open(\"test.txt\", \"r\") as file:\n",
    "    content = file.read()"
   ]
  },
  {
   "cell_type": "markdown",
   "id": "de5bd3d3",
   "metadata": {},
   "source": [
    "The Context Manager ensures that the ```file.close()``` method gets executed automatically no matter the file was executed correctly or there an error occured. Because if we open a file with ```file.open()``` method we have to close it manually. By using a **Context Manager** this is not required."
   ]
  },
  {
   "cell_type": "markdown",
   "id": "836f4c85",
   "metadata": {},
   "source": [
    "### How does a Context Manager work?"
   ]
  },
  {
   "cell_type": "markdown",
   "id": "10ce50cd",
   "metadata": {},
   "source": [
    "An object is a context manager if it includes **two special methods**:\n",
    "- ```__enter__(self)``` → Gets called by **entering** the ```with``` block.\n",
    "- ```__exit__(self, exc_type, exc_val, exc_tb)``` → Gets called by leaving the ```with``` block no matter with error or without error."
   ]
  },
  {
   "cell_type": "markdown",
   "id": "50bd8e17",
   "metadata": {},
   "source": [
    "### A Simple Context Manager"
   ]
  },
  {
   "cell_type": "code",
   "execution_count": null,
   "id": "8ea7b900",
   "metadata": {},
   "outputs": [
    {
     "name": "stdout",
     "output_type": "stream",
     "text": [
      "Entering the context...\n",
      "Inside the context...\n",
      "Leaving the context...\n"
     ]
    }
   ],
   "source": [
    "class MyContextManager:\n",
    "    def __enter__(self):\n",
    "        print(\"Entering the context...\")\n",
    "        return self\n",
    "    \n",
    "    def __exit__(self, exc_type, exc_val, exc_tb):\n",
    "        print(\"Leaving the context...\")\n",
    "        if exc_type:\n",
    "            print(f\"An error occured: {exc_val}\")\n",
    "        return True # Suppress the exception (optional)\n",
    "    \n",
    "with MyContextManager():\n",
    "    print(\"Inside the context...\")"
   ]
  },
  {
   "cell_type": "markdown",
   "id": "d4832108",
   "metadata": {},
   "source": [
    "**Sequence**:\n",
    "- ```__enter__()``` gets excecuted immediatly when entering the context.\n",
    "- After that the ```with``` block gets executed.\n",
    "- No matter how the block gets executed (with error or without error), ```__exit__()``` gets called always."
   ]
  },
  {
   "cell_type": "markdown",
   "id": "3f3ba8bd",
   "metadata": {},
   "source": [
    "### Important Tasks of ```__exit__()```"
   ]
  },
  {
   "cell_type": "markdown",
   "id": "7ac1b473",
   "metadata": {},
   "source": [
    "| Tasks | Meaning |\n",
    "| --- | --- |\n",
    "| Error Handling | Error type `exc_type`, Value `exc_val`, Traceback `exc_tb` are ready |\n",
    "| Release Resources | Closing files, Disconnecting , Cleaning memory |\n",
    "| Error Supressing Option | `return True` in `__exit__()` surpresses the exception |"
   ]
  },
  {
   "cell_type": "markdown",
   "id": "4e348cd9",
   "metadata": {},
   "source": [
    "### More Simple: Context Manager using ```contextlib```"
   ]
  },
  {
   "cell_type": "markdown",
   "id": "ab0744eb",
   "metadata": {},
   "source": [
    "Python offers a module named ```contextlib```, which simplifies building context managers extremely!"
   ]
  },
  {
   "cell_type": "code",
   "execution_count": 4,
   "id": "efa72adc",
   "metadata": {},
   "outputs": [
    {
     "name": "stdout",
     "output_type": "stream",
     "text": [
      "Context manager executed successfully.\n"
     ]
    }
   ],
   "source": [
    "from contextlib import contextmanager\n",
    "\n",
    "@contextmanager\n",
    "def context_manager(path, mode):\n",
    "    file = open(path, mode)\n",
    "    try:\n",
    "        yield file\n",
    "    finally:\n",
    "        file.close()\n",
    "\n",
    "with context_manager(\"context_test.txt\", \"w\") as file:\n",
    "    file.write(\"Hello, World!\")\n",
    "    print(\"Context manager executed successfully.\")"
   ]
  },
  {
   "cell_type": "markdown",
   "id": "e078dc82",
   "metadata": {},
   "source": []
  }
 ],
 "metadata": {
  "kernelspec": {
   "display_name": "base",
   "language": "python",
   "name": "python3"
  },
  "language_info": {
   "codemirror_mode": {
    "name": "ipython",
    "version": 3
   },
   "file_extension": ".py",
   "mimetype": "text/x-python",
   "name": "python",
   "nbconvert_exporter": "python",
   "pygments_lexer": "ipython3",
   "version": "3.11.7"
  }
 },
 "nbformat": 4,
 "nbformat_minor": 5
}
