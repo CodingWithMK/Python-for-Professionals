{
 "cells": [
  {
   "cell_type": "markdown",
   "id": "3e75274f",
   "metadata": {},
   "source": [
    "# CHAPTER 77: CONTEXT MANAGERS"
   ]
  },
  {
   "cell_type": "markdown",
   "id": "ec3bba79",
   "metadata": {},
   "source": [
    "A **Context Manager** is an object that creates a specific environment for data and file management and automatically closes and clears them up when finished.\n",
    "\n",
    "Typical Examples are:\n",
    "- Opening/Closing files\n",
    "- Managing Database connections\n",
    "- Releasing Locks in Multithreading correctly\n",
    "- Sharing Resources automatically"
   ]
  },
  {
   "cell_type": "code",
   "execution_count": 1,
   "id": "a550ffdf",
   "metadata": {},
   "outputs": [],
   "source": [
    "# Most popular Usage of an Context Manager\n",
    "\n",
    "with open(\"test.txt\", \"r\") as file:\n",
    "    content = file.read()"
   ]
  },
  {
   "cell_type": "markdown",
   "id": "de5bd3d3",
   "metadata": {},
   "source": [
    "The Context Manager ensures that the ```file.close()``` method gets executed automatically no matter the file was executed correctly or there an error occured. Because if we open a file with ```file.open()``` method we have to close it manually. By using a **Context Manager** this is not required."
   ]
  },
  {
   "cell_type": "markdown",
   "id": "836f4c85",
   "metadata": {},
   "source": [
    "### How does a Context Manager work?"
   ]
  },
  {
   "cell_type": "markdown",
   "id": "10ce50cd",
   "metadata": {},
   "source": []
  }
 ],
 "metadata": {
  "kernelspec": {
   "display_name": "base",
   "language": "python",
   "name": "python3"
  },
  "language_info": {
   "codemirror_mode": {
    "name": "ipython",
    "version": 3
   },
   "file_extension": ".py",
   "mimetype": "text/x-python",
   "name": "python",
   "nbconvert_exporter": "python",
   "pygments_lexer": "ipython3",
   "version": "3.11.7"
  }
 },
 "nbformat": 4,
 "nbformat_minor": 5
}
