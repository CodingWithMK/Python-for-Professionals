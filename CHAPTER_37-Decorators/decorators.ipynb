{
 "cells": [
  {
   "cell_type": "markdown",
   "id": "466d3201",
   "metadata": {},
   "source": [
    "# CHAPTER 37: DECORATORS"
   ]
  },
  {
   "cell_type": "markdown",
   "id": "07a0a192",
   "metadata": {},
   "source": [
    "A Decorator is a function which **expands**, **changes** or **\"decorates\"** another function or method without changing its source code directly."
   ]
  },
  {
   "cell_type": "markdown",
   "id": "e57c3caa",
   "metadata": {},
   "source": [
    "### Simple Decorator - \"Syntactic Sugar\""
   ]
  },
  {
   "cell_type": "code",
   "execution_count": 2,
   "id": "85d83b28",
   "metadata": {},
   "outputs": [],
   "source": [
    "def secret_function(f):\n",
    "    return f\n",
    "\n",
    "@secret_function\n",
    "def my_function():\n",
    "    print(\"My function got decorated\")"
   ]
  },
  {
   "cell_type": "code",
   "execution_count": 5,
   "id": "426ead54",
   "metadata": {},
   "outputs": [
    {
     "name": "stdout",
     "output_type": "stream",
     "text": [
      "My function got decorated\n"
     ]
    }
   ],
   "source": [
    "my_function()"
   ]
  },
  {
   "cell_type": "markdown",
   "id": "61dad918",
   "metadata": {},
   "source": [
    "### Decorator with Parameter Display"
   ]
  },
  {
   "cell_type": "code",
   "execution_count": 6,
   "id": "4ed0f4b5",
   "metadata": {},
   "outputs": [
    {
     "name": "stdout",
     "output_type": "stream",
     "text": [
      "Args: (3, 4)\n",
      "Kwargs: {}\n",
      "12\n"
     ]
    }
   ],
   "source": [
    "def print_args(func):\n",
    "    def wrapper(*args, **kwargs):\n",
    "        print(\"Args:\", args)\n",
    "        print(\"Kwargs:\", kwargs)\n",
    "        return func(*args, **kwargs)\n",
    "    return wrapper\n",
    "\n",
    "@print_args\n",
    "def multiply(a, b):\n",
    "    return a * b\n",
    "\n",
    "print(multiply(3, 4))\n",
    "# -> Args: (3, 4)\n",
    "# -> Kwargs: {}\n",
    "# -> 12"
   ]
  },
  {
   "cell_type": "markdown",
   "id": "eede47c3",
   "metadata": {},
   "source": [
    "### Classes as Decorators using ```__call__```"
   ]
  },
  {
   "cell_type": "code",
   "execution_count": 7,
   "id": "75d48a0a",
   "metadata": {},
   "outputs": [
    {
     "name": "stdout",
     "output_type": "stream",
     "text": [
      "Before function call\n",
      "Inside test function\n",
      "After function call\n"
     ]
    }
   ],
   "source": [
    "class Decorator:\n",
    "    def __init__(self, func):\n",
    "        self.func = func\n",
    "\n",
    "    def __call__(self, *args, **kwargs):\n",
    "        print(\"Before function call\")\n",
    "        result = self.func(*args, **kwargs)\n",
    "        print(\"After function call\")\n",
    "        return result\n",
    "    \n",
    "@Decorator\n",
    "def test():\n",
    "    print(\"Inside test function\")\n",
    "\n",
    "test()"
   ]
  },
  {
   "cell_type": "markdown",
   "id": "8e888aff",
   "metadata": {},
   "source": [
    "```__call__``` allows a class to behave like a function."
   ]
  },
  {
   "cell_type": "code",
   "execution_count": null,
   "id": "9414f129",
   "metadata": {},
   "outputs": [],
   "source": []
  }
 ],
 "metadata": {
  "kernelspec": {
   "display_name": "base",
   "language": "python",
   "name": "python3"
  },
  "language_info": {
   "codemirror_mode": {
    "name": "ipython",
    "version": 3
   },
   "file_extension": ".py",
   "mimetype": "text/x-python",
   "name": "python",
   "nbconvert_exporter": "python",
   "pygments_lexer": "ipython3",
   "version": "3.11.7"
  }
 },
 "nbformat": 4,
 "nbformat_minor": 5
}
