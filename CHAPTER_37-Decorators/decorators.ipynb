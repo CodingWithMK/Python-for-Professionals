{
 "cells": [
  {
   "cell_type": "markdown",
   "id": "466d3201",
   "metadata": {},
   "source": [
    "# CHAPTER 37: DECORATORS"
   ]
  },
  {
   "cell_type": "markdown",
   "id": "07a0a192",
   "metadata": {},
   "source": [
    "A Decorator is a function which **expands**, **changes** or **\"decorates\"** another function or method without changing its source code directly."
   ]
  },
  {
   "cell_type": "markdown",
   "id": "e57c3caa",
   "metadata": {},
   "source": [
    "### Simple Decorator - \"Syntactic Sugar\""
   ]
  },
  {
   "cell_type": "code",
   "execution_count": 2,
   "id": "85d83b28",
   "metadata": {},
   "outputs": [],
   "source": [
    "def secret_function(f):\n",
    "    return f\n",
    "\n",
    "@secret_function\n",
    "def my_function():\n",
    "    print(\"My function got decorated\")"
   ]
  },
  {
   "cell_type": "code",
   "execution_count": 5,
   "id": "426ead54",
   "metadata": {},
   "outputs": [
    {
     "name": "stdout",
     "output_type": "stream",
     "text": [
      "My function got decorated\n"
     ]
    }
   ],
   "source": [
    "my_function()"
   ]
  },
  {
   "cell_type": "markdown",
   "id": "61dad918",
   "metadata": {},
   "source": [
    "### Decorator with Parameter Display"
   ]
  },
  {
   "cell_type": "code",
   "execution_count": 6,
   "id": "4ed0f4b5",
   "metadata": {},
   "outputs": [
    {
     "name": "stdout",
     "output_type": "stream",
     "text": [
      "Args: (3, 4)\n",
      "Kwargs: {}\n",
      "12\n"
     ]
    }
   ],
   "source": [
    "def print_args(func):\n",
    "    def wrapper(*args, **kwargs):\n",
    "        print(\"Args:\", args)\n",
    "        print(\"Kwargs:\", kwargs)\n",
    "        return func(*args, **kwargs)\n",
    "    return wrapper\n",
    "\n",
    "@print_args\n",
    "def multiply(a, b):\n",
    "    return a * b\n",
    "\n",
    "print(multiply(3, 4))\n",
    "# -> Args: (3, 4)\n",
    "# -> Kwargs: {}\n",
    "# -> 12"
   ]
  },
  {
   "cell_type": "markdown",
   "id": "eede47c3",
   "metadata": {},
   "source": [
    "### Classes as Decorators using ```__call__```"
   ]
  },
  {
   "cell_type": "code",
   "execution_count": 7,
   "id": "75d48a0a",
   "metadata": {},
   "outputs": [
    {
     "name": "stdout",
     "output_type": "stream",
     "text": [
      "Before function call\n",
      "Inside test function\n",
      "After function call\n"
     ]
    }
   ],
   "source": [
    "class Decorator:\n",
    "    def __init__(self, func):\n",
    "        self.func = func\n",
    "\n",
    "    def __call__(self, *args, **kwargs):\n",
    "        print(\"Before function call\")\n",
    "        result = self.func(*args, **kwargs)\n",
    "        print(\"After function call\")\n",
    "        return result\n",
    "    \n",
    "@Decorator\n",
    "def test():\n",
    "    print(\"Inside test function\")\n",
    "\n",
    "test()"
   ]
  },
  {
   "cell_type": "markdown",
   "id": "8e888aff",
   "metadata": {},
   "source": [
    "```__call__``` allows a class to behave like a function."
   ]
  },
  {
   "cell_type": "markdown",
   "id": "ae91c24e",
   "metadata": {},
   "source": [
    "### Decorators with Arguments (Decorator Factory)"
   ]
  },
  {
   "cell_type": "code",
   "execution_count": 1,
   "id": "9414f129",
   "metadata": {},
   "outputs": [
    {
     "name": "stdout",
     "output_type": "stream",
     "text": [
      "Nachricht: Salam Bro!\n",
      "Process completed.\n"
     ]
    }
   ],
   "source": [
    "def with_message(message):\n",
    "    def decorator(func):\n",
    "        def wrapper(*args, **kwargs):\n",
    "            print(f\"Nachricht: {message}\")\n",
    "            return func(*args, **kwargs)\n",
    "        return wrapper\n",
    "    return decorator\n",
    "\n",
    "@with_message(\"Salam Bro!\")\n",
    "def function():\n",
    "    print(\"Process completed.\")\n",
    "\n",
    "function()"
   ]
  },
  {
   "cell_type": "markdown",
   "id": "a0559d05",
   "metadata": {},
   "source": [
    "### Preserve Original Functional Properties - ```functools.wraps```"
   ]
  },
  {
   "cell_type": "code",
   "execution_count": 2,
   "id": "18039a1b",
   "metadata": {},
   "outputs": [
    {
     "name": "stdout",
     "output_type": "stream",
     "text": [
      "greeting\n",
      "This function says Salam.\n"
     ]
    }
   ],
   "source": [
    "from functools import wraps\n",
    "\n",
    "def decorator(func):\n",
    "    @wraps(func)\n",
    "    def wrapper(*args, **kwargs):\n",
    "        print(\"Decorating...\")\n",
    "        return func(*args, **kwargs)\n",
    "    return wrapper\n",
    "\n",
    "@decorator\n",
    "def greeting():\n",
    "    \"\"\"This function says Salam.\"\"\"\n",
    "    print(\"Salam Bro!\")\n",
    "\n",
    "print(greeting.__name__) # -> greeting\n",
    "print(greeting.__doc__) # -> This function says Salam."
   ]
  },
  {
   "cell_type": "markdown",
   "id": "2094257d",
   "metadata": {},
   "source": [
    "Without @wraps the function name would be \"wrapper\" and the docstring would disappear."
   ]
  },
  {
   "cell_type": "markdown",
   "id": "139d33e1",
   "metadata": {},
   "source": [
    "### Connection to previous Topics (Iterators & Generators)"
   ]
  },
  {
   "cell_type": "code",
   "execution_count": 4,
   "id": "87c2709c",
   "metadata": {},
   "outputs": [
    {
     "name": "stdout",
     "output_type": "stream",
     "text": [
      "Length of time: 0.01 seconds\n",
      "Length of time: 0.00 seconds\n"
     ]
    },
    {
     "data": {
      "text/plain": [
       "0"
      ]
     },
     "execution_count": 4,
     "metadata": {},
     "output_type": "execute_result"
    }
   ],
   "source": [
    "import time\n",
    "\n",
    "def measure_time(func):\n",
    "    def wrapper(*args, **kwargs):\n",
    "        start = time.time()\n",
    "        result = func(*args, **kwargs)\n",
    "        print(f\"Length of time: {time.time() - start:.2f} seconds\")\n",
    "        return result\n",
    "    return wrapper\n",
    "\n",
    "@measure_time\n",
    "def create_list():\n",
    "    return [i**2 for i in range(10**5)]\n",
    "\n",
    "@measure_time\n",
    "def create_generator():\n",
    "    return (i**2 for i in range(10**5)) # generator expression\n",
    "\n",
    "create_list()\n",
    "gen = create_generator()\n",
    "next(gen)"
   ]
  },
  {
   "cell_type": "markdown",
   "id": "755182d1",
   "metadata": {},
   "source": [
    "### Advanced: Singleton-Class Decorator"
   ]
  },
  {
   "cell_type": "code",
   "execution_count": null,
   "id": "1e1cee87",
   "metadata": {},
   "outputs": [],
   "source": [
    "def singleton(cls):\n",
    "    instances = {}\n",
    "    def wrapper(*args, **kwargs):\n",
    "        if cls not in instances:\n",
    "            instances[cls] = cls(*args, **kwargs)\n",
    "            return instances[cls]\n",
    "        return wrapper\n",
    "    \n",
    "@singleton\n",
    "class Settings:\n",
    "    pass\n",
    "\n",
    "a = Settings()\n",
    "b = Settings()\n",
    "print(a is b) # -> True"
   ]
  }
 ],
 "metadata": {
  "kernelspec": {
   "display_name": "base",
   "language": "python",
   "name": "python3"
  },
  "language_info": {
   "codemirror_mode": {
    "name": "ipython",
    "version": 3
   },
   "file_extension": ".py",
   "mimetype": "text/x-python",
   "name": "python",
   "nbconvert_exporter": "python",
   "pygments_lexer": "ipython3",
   "version": "3.11.7"
  }
 },
 "nbformat": 4,
 "nbformat_minor": 5
}
