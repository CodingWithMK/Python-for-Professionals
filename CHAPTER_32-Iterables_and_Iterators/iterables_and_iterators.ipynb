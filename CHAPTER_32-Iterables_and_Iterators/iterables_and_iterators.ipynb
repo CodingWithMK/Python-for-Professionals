{
 "cells": [
  {
   "cell_type": "markdown",
   "id": "e6af95b2",
   "metadata": {},
   "source": [
    "# CHAPTER 32: ITERABLES AND ITERATORS"
   ]
  },
  {
   "cell_type": "markdown",
   "id": "284e0d7e",
   "metadata": {},
   "source": [
    "## **NOTE**: Look at scripts with .py ending in the main directory of this topic to get a look into Practicing Projects about this topic."
   ]
  },
  {
   "cell_type": "markdown",
   "id": "463638aa",
   "metadata": {},
   "source": [
    "**An Iterable is an object that can return an iterator like a list, tuple or a string.**\n",
    "\n",
    "**An Iterator is an object that produces the next value in a sequence by calling \"next(*object*)\" on some object in the iterable.**"
   ]
  },
  {
   "cell_type": "markdown",
   "id": "23f4b3d0",
   "metadata": {},
   "source": [
    "# Iterable Classes"
   ]
  },
  {
   "cell_type": "markdown",
   "id": "5aa3c58a",
   "metadata": {},
   "source": [
    "**Basic Example - Main Structure**"
   ]
  },
  {
   "cell_type": "code",
   "execution_count": null,
   "id": "903fbc0a",
   "metadata": {},
   "outputs": [],
   "source": [
    "class MyIterable:\n",
    "    def __iter__(self):\n",
    "        return self\n",
    "    \n",
    "    def __next__(self):\n",
    "        raise StopIteration\n",
    "    \n",
    "    __next__ = next\n",
    "    \n",
    "# Classic iterable object in older versions of Python, __getitem__ is still supported.\n",
    "class MySequence:\n",
    "    def __getitem__(self, index):\n",
    "        if index > len(self):\n",
    "            raise IndexError\n",
    "        return index\n",
    "\n",
    "# Can produce a plain 'iterator' instance by usinf iter(MySequence())"
   ]
  },
  {
   "cell_type": "markdown",
   "id": "9269d81c",
   "metadata": {},
   "source": [
    "**TIP**: Every iterator is an iterable, but not every iterable is an iterator."
   ]
  },
  {
   "cell_type": "markdown",
   "id": "4e204b75",
   "metadata": {},
   "source": [
    "**Practicing Example**"
   ]
  },
  {
   "cell_type": "code",
   "execution_count": 2,
   "id": "1818033a",
   "metadata": {},
   "outputs": [
    {
     "name": "stdout",
     "output_type": "stream",
     "text": [
      "1\n",
      "2\n",
      "3\n",
      "4\n",
      "5\n",
      "6\n",
      "7\n",
      "8\n",
      "9\n",
      "10\n"
     ]
    }
   ],
   "source": [
    "class Counter:\n",
    "    def __init__(self, start, end):\n",
    "        self.current = start\n",
    "        self.end = end\n",
    "\n",
    "    def __iter__(self): # -> allows iteration like \"for x in ...\"\n",
    "        return self  # return itself as an iterator\n",
    "    \n",
    "    def __next__(self): # -> delivers the next value in iterable\n",
    "        if self.current > self.end:\n",
    "            raise StopIteration\n",
    "        self.current += 1\n",
    "        return self.current - 1\n",
    "    \n",
    "for num in Counter(1, 10):\n",
    "    print(num)"
   ]
  },
  {
   "cell_type": "markdown",
   "id": "97e2c535",
   "metadata": {},
   "source": [
    "**IMPORTANT RULE: Iterators are not reusable! Once they have been passed through they are no longer usable.**"
   ]
  },
  {
   "cell_type": "markdown",
   "id": "fa021275",
   "metadata": {},
   "source": [
    "### Extracting values one-by-one"
   ]
  },
  {
   "cell_type": "code",
   "execution_count": 4,
   "id": "389a4bd3",
   "metadata": {},
   "outputs": [
    {
     "name": "stdout",
     "output_type": "stream",
     "text": [
      "1\n",
      "2\n",
      "3\n"
     ]
    }
   ],
   "source": [
    "s = {1, 2, 3}\n",
    "i = iter(s)\n",
    "print(next(i)) # prints 1\n",
    "print(next(i)) # prints 2\n",
    "print(next(i)) # prints 3\n",
    "# print(next(i)) # -> StopIteration"
   ]
  },
  {
   "cell_type": "markdown",
   "id": "65c1977e",
   "metadata": {},
   "source": [
    "### Iterating over entire iterable"
   ]
  },
  {
   "cell_type": "code",
   "execution_count": 6,
   "id": "24451452",
   "metadata": {},
   "outputs": [
    {
     "name": "stdout",
     "output_type": "stream",
     "text": [
      "1\n",
      "2\n",
      "3\n",
      "[6]\n"
     ]
    }
   ],
   "source": [
    "s = {1, 2, 3}\n",
    "\n",
    "# get every element in s\n",
    "for a in s:\n",
    "    print(a) # prints 1, then 2, ...\n",
    "\n",
    "# copy into list\n",
    "list_1 = list(s) # list_1 = [1, 2, 3]\n",
    "\n",
    "# use list comprehension\n",
    "list_2 = [a * 2 for a in s if a > 2] # list_2 = [6]\n",
    "\n",
    "print(list_2)"
   ]
  },
  {
   "cell_type": "markdown",
   "id": "6f62b94a",
   "metadata": {},
   "source": [
    "### Verify only one element in iterable"
   ]
  },
  {
   "cell_type": "code",
   "execution_count": 7,
   "id": "bf04fc39",
   "metadata": {},
   "outputs": [
    {
     "ename": "ValueError",
     "evalue": "too many values to unpack (expected 1)",
     "output_type": "error",
     "traceback": [
      "\u001b[1;31m---------------------------------------------------------------------------\u001b[0m",
      "\u001b[1;31mValueError\u001b[0m                                Traceback (most recent call last)",
      "Cell \u001b[1;32mIn[7], line 7\u001b[0m\n\u001b[0;32m      4\u001b[0m a, \u001b[38;5;241m=\u001b[39m foo()  \u001b[38;5;66;03m# a = 1\u001b[39;00m\n\u001b[0;32m      6\u001b[0m nums \u001b[38;5;241m=\u001b[39m [\u001b[38;5;241m1\u001b[39m, \u001b[38;5;241m2\u001b[39m, \u001b[38;5;241m3\u001b[39m]\n\u001b[1;32m----> 7\u001b[0m a, \u001b[38;5;241m=\u001b[39m nums\n",
      "\u001b[1;31mValueError\u001b[0m: too many values to unpack (expected 1)"
     ]
    }
   ],
   "source": [
    "def foo():\n",
    "    yield 1\n",
    "\n",
    "a, = foo()  # a = 1\n",
    "\n",
    "nums = [1, 2, 3]\n",
    "a, = nums  # ValueError: too many values to unpack"
   ]
  },
  {
   "cell_type": "code",
   "execution_count": 8,
   "id": "dff3b67c",
   "metadata": {},
   "outputs": [
    {
     "ename": "ValueError",
     "evalue": "too many values to unpack (expected 1)",
     "output_type": "error",
     "traceback": [
      "\u001b[1;31m---------------------------------------------------------------------------\u001b[0m",
      "\u001b[1;31mValueError\u001b[0m                                Traceback (most recent call last)",
      "Cell \u001b[1;32mIn[8], line 5\u001b[0m\n\u001b[0;32m      2\u001b[0m     \u001b[38;5;28;01myield\u001b[39;00m \u001b[38;5;241m42\u001b[39m\n\u001b[0;32m      4\u001b[0m a, \u001b[38;5;241m=\u001b[39m foo() \u001b[38;5;66;03m# works\u001b[39;00m\n\u001b[1;32m----> 5\u001b[0m b, \u001b[38;5;241m=\u001b[39m [\u001b[38;5;241m1\u001b[39m, \u001b[38;5;241m2\u001b[39m]\n",
      "\u001b[1;31mValueError\u001b[0m: too many values to unpack (expected 1)"
     ]
    }
   ],
   "source": [
    "def foo():\n",
    "    yield 42\n",
    "\n",
    "a, = foo() # works\n",
    "b, = [1, 2] # raises a ValueError"
   ]
  },
  {
   "cell_type": "markdown",
   "id": "fc649135",
   "metadata": {},
   "source": [
    "**Trick**: The comma after the variables \"a\" and \"b\" ensures unpacking of one element"
   ]
  },
  {
   "cell_type": "markdown",
   "id": "478b9ad9",
   "metadata": {},
   "source": [
    "### What can be iterable?\n",
    "\n",
    "**Iterable** can be anything for which items are received *one by one, forward only*. Built-in Python collections are iterable."
   ]
  },
  {
   "cell_type": "code",
   "execution_count": 9,
   "id": "170eddc2",
   "metadata": {},
   "outputs": [
    {
     "data": {
      "text/plain": [
       "{1: 'a', 2: 'b', 3: 'c'}"
      ]
     },
     "execution_count": 9,
     "metadata": {},
     "output_type": "execute_result"
    }
   ],
   "source": [
    "[1, 2, 3] # list, iterate over items\n",
    "(1, 2, 3) # tuple\n",
    "{1, 2, 3} # set\n",
    "{1: 'a', 2: 'b', 3: 'c'} # dict, iterate over keys"
   ]
  },
  {
   "cell_type": "markdown",
   "id": "0282e1dc",
   "metadata": {},
   "source": [
    "Generators return iterables:"
   ]
  },
  {
   "cell_type": "code",
   "execution_count": 11,
   "id": "eaaf0800",
   "metadata": {},
   "outputs": [
    {
     "name": "stdout",
     "output_type": "stream",
     "text": [
      "<generator object foo at 0x000001E1DD85CBF0>\n"
     ]
    }
   ],
   "source": [
    "def foo(): # foo is not iterable yet ...\n",
    "    yield 1\n",
    "\n",
    "res = foo() # ... but res is an iterator\n",
    "print(res)"
   ]
  },
  {
   "cell_type": "markdown",
   "id": "bcd3f087",
   "metadata": {},
   "source": [
    "### Iterator is not reentrant!"
   ]
  },
  {
   "cell_type": "code",
   "execution_count": 12,
   "id": "2ce0233f",
   "metadata": {},
   "outputs": [
    {
     "name": "stdout",
     "output_type": "stream",
     "text": [
      "1\n"
     ]
    },
    {
     "data": {
      "text/plain": [
       "<generator object gen at 0x000001E1DD85D0C0>"
      ]
     },
     "execution_count": 12,
     "metadata": {},
     "output_type": "execute_result"
    }
   ],
   "source": [
    "def gen():\n",
    "    yield 1\n",
    "\n",
    "iterable = gen()\n",
    "for a in iterable:\n",
    "    print(a)\n",
    "\n",
    "# What was the first item of iterable? No way to get it now.\n",
    "# Only to get a new iterator\n",
    "gen()"
   ]
  },
  {
   "cell_type": "code",
   "execution_count": 13,
   "id": "7be6a3b1",
   "metadata": {},
   "outputs": [
    {
     "data": {
      "text/plain": [
       "[]"
      ]
     },
     "execution_count": 13,
     "metadata": {},
     "output_type": "execute_result"
    }
   ],
   "source": [
    "it = iter([1, 2, 3])\n",
    "list(it) # [1, 2, 3]\n",
    "list(it) # []\n"
   ]
  },
  {
   "cell_type": "markdown",
   "id": "9e47af27",
   "metadata": {},
   "source": [
    "Use \"list()\" before if you need to iterate multiple times"
   ]
  }
 ],
 "metadata": {
  "kernelspec": {
   "display_name": "base",
   "language": "python",
   "name": "python3"
  },
  "language_info": {
   "codemirror_mode": {
    "name": "ipython",
    "version": 3
   },
   "file_extension": ".py",
   "mimetype": "text/x-python",
   "name": "python",
   "nbconvert_exporter": "python",
   "pygments_lexer": "ipython3",
   "version": "3.11.7"
  }
 },
 "nbformat": 4,
 "nbformat_minor": 5
}
